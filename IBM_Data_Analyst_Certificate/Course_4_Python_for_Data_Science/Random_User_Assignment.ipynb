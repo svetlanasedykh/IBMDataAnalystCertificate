{
 "cells": [
  {
   "cell_type": "markdown",
   "id": "4315ab09-5eb0-45e9-ad0c-137885fefa30",
   "metadata": {},
   "source": [
    "<center>\n",
    "    <img src=\"https://cf-courses-data.s3.us.cloud-object-storage.appdomain.cloud/assets/logos/SN_web_lightmode.png\" width=\"300\" alt=\"cognitiveclass.ai logo\">\n",
    "</center>\n",
    "\n",
    "# Simple APIs \n",
    "## Random User and Fruitvice API Examples\n",
    "\n",
    "\n",
    "Estimated time needed: **25** minutes\n",
    "\n",
    "## Objectives\n",
    "\n",
    "After completing this lab you will be able to:\n",
    "\n",
    "*   Load and use RandomUser API, using `RandomUser()` Python library\n",
    "*   Load and use Fruitvice API, using `requests` Python library\n",
    "\n"
   ]
  },
  {
   "cell_type": "markdown",
   "id": "a894c135-ca4b-4d68-8758-12a9b324297f",
   "metadata": {},
   "source": [
    "The purpose of this notebook is to provide more examples on how to use simple APIs. As you have already learned from previous videos and notebooks, API stands for Application Programming Interface and is a software intermediary that allows two applications to talk to each other. \n",
    "\n",
    "The advantages of using APIs:\n",
    " *   **Automation**. Less human effort is required and workflows can be easily updated to become faster and more      \n",
    "     productive.\n",
    " *   **Efficiency**. It allows to use the capabilities of one of the already developed APIs than to try to \n",
    "     independently implement some functionality from scratch.\n",
    " \n",
    "The disadvantage of using APIs:\n",
    " *   **Security**. If the API is poorly integrated, it means it will be vulnerable to attacks, resulting in data breeches or losses having financial or reputation implications.\n",
    "\n",
    "One of the applications we will use in this notebook is Random User Generator. RandomUser is an open-source, free API providing developers with randomly generated users to be used as placeholders for testing purposes. This makes the tool similar to Lorem Ipsum, but is a placeholder for people instead of text. The API can return multiple results, as well as specify generated user details such as gender, email, image, username, address, title, first and last name, and more. More information on [RandomUser](https://randomuser.me/documentation?utm_medium=Exinfluencer&utm_source=Exinfluencer&utm_content=000026UJ&utm_term=10006555&utm_id=NA-SkillsNetwork-Channel-SkillsNetworkCoursesIBMDeveloperSkillsNetworkPY0101ENSkillsNetwork1005-2023-01-01#intro) can be found here.\n",
    "\n",
    "Another example of simple API we will use in this notebook is Fruitvice application. The Fruitvice API webservice which provides data for all kinds of fruit! You can use Fruityvice to find out interesting information about fruit and educate yourself. The webservice is completely free to use and contribute to.\n"
   ]
  },
  {
   "cell_type": "markdown",
   "id": "a86bf473-86a9-445e-8907-48597e1e5163",
   "metadata": {},
   "source": [
    "## Example 1: RandomUser API\n",
    "Bellow are Get Methods parameters that we can generate. For more information on the parameters, please visit this [documentation](https://randomuser.me/documentation?utm_medium=Exinfluencer&utm_source=Exinfluencer&utm_content=000026UJ&utm_term=10006555&utm_id=NA-SkillsNetwork-Channel-SkillsNetworkCoursesIBMDeveloperSkillsNetworkPY0101ENSkillsNetwork1005-2023-01-01) page.\n"
   ]
  },
  {
   "cell_type": "markdown",
   "id": "138cef97-dc95-4cf8-b14f-cdec71864137",
   "metadata": {},
   "source": [
    "## **Get Methods**\n",
    "\n",
    "- get_cell()\n",
    "- get_city()\n",
    "- get_dob()\n",
    "- get_email()\n",
    "- get_first_name()\n",
    "- get_full_name()\n",
    "- get_gender()\n",
    "- get_id()\n",
    "- get_id_number()\n",
    "- get_id_type()\n",
    "- get_info()\n",
    "- get_last_name()\n",
    "- get_login_md5()\n",
    "- get_login_salt()\n",
    "- get_login_sha1()\n",
    "- get_login_sha256()\n",
    "- get_nat()\n",
    "- get_password()\n",
    "- get_phone()\n",
    "- get_picture()\n",
    "- get_postcode()\n",
    "- get_registered()\n",
    "- get_state()\n",
    "- get_street()\n",
    "- get_username()\n",
    "- get_zipcode()\n"
   ]
  },
  {
   "cell_type": "markdown",
   "id": "0ee17ea4-d201-4268-a32e-86033b138dee",
   "metadata": {},
   "source": [
    "To start using the API you can install the `randomuser` library running the `pip install` command.\n"
   ]
  },
  {
   "cell_type": "code",
   "execution_count": 1,
   "id": "4c1bcc35-173d-43f9-b141-c36adc8b12df",
   "metadata": {},
   "outputs": [
    {
     "name": "stdout",
     "output_type": "stream",
     "text": [
      "Requirement already satisfied: randomuser in c:\\users\\ssedy\\anaconda3\\envs\\course_7_playground\\lib\\site-packages (1.6)\n"
     ]
    }
   ],
   "source": [
    "!pip install randomuser"
   ]
  },
  {
   "cell_type": "markdown",
   "id": "bf606293-0b77-4c6d-b07a-4e8d750cd0d0",
   "metadata": {},
   "source": [
    "Then, we will load the necessary libraries.\n"
   ]
  },
  {
   "cell_type": "code",
   "execution_count": 2,
   "id": "81d0f4b3-8ab2-475b-8883-34dc0f05ab34",
   "metadata": {},
   "outputs": [],
   "source": [
    "from randomuser import RandomUser\n",
    "import pandas as pd"
   ]
  },
  {
   "cell_type": "markdown",
   "id": "39d46709-ba76-48af-8493-834e167ecbf3",
   "metadata": {},
   "source": [
    "First, we will create a random user object, r.\n"
   ]
  },
  {
   "cell_type": "code",
   "execution_count": 3,
   "id": "6cce933c-f790-4876-a08f-5004ed8f7c02",
   "metadata": {},
   "outputs": [],
   "source": [
    "r = RandomUser()"
   ]
  },
  {
   "cell_type": "markdown",
   "id": "a6a6490c-9035-4e68-b38c-dc2530be7539",
   "metadata": {},
   "source": [
    "Then, using `generate_users()` function, we get a list of random 10 users.\n"
   ]
  },
  {
   "cell_type": "code",
   "execution_count": 4,
   "id": "aee91fed-4b47-4c2e-96c9-68841b2d2c83",
   "metadata": {},
   "outputs": [],
   "source": [
    "some_list = r.generate_users(10)"
   ]
  },
  {
   "cell_type": "code",
   "execution_count": 5,
   "id": "96ce68c3-839f-40ab-acb8-6762d489e4c9",
   "metadata": {},
   "outputs": [
    {
     "data": {
      "text/plain": [
       "[<randomuser.RandomUser at 0x15b95ed94b0>,\n",
       " <randomuser.RandomUser at 0x15b95ed8250>,\n",
       " <randomuser.RandomUser at 0x15b95edbf70>,\n",
       " <randomuser.RandomUser at 0x15b95ed9d20>,\n",
       " <randomuser.RandomUser at 0x15b95edbd30>,\n",
       " <randomuser.RandomUser at 0x15b95edbf40>,\n",
       " <randomuser.RandomUser at 0x15b95ed8640>,\n",
       " <randomuser.RandomUser at 0x15b95ed8f40>,\n",
       " <randomuser.RandomUser at 0x15b95ed9810>,\n",
       " <randomuser.RandomUser at 0x15b98159ba0>]"
      ]
     },
     "execution_count": 5,
     "metadata": {},
     "output_type": "execute_result"
    }
   ],
   "source": [
    "some_list"
   ]
  },
  {
   "cell_type": "markdown",
   "id": "f4a6962d-3cd6-4bae-9af6-9ea218efb3ec",
   "metadata": {},
   "source": [
    "The **\"Get Methods\"** functions mentioned at the beginning of this notebook, can generate the required parameters to construct a dataset. For example, to get full name, we call `get_full_name()` function.\n"
   ]
  },
  {
   "cell_type": "code",
   "execution_count": 6,
   "id": "5e1e73af-31dd-4193-8e89-03493c4b6d5e",
   "metadata": {},
   "outputs": [],
   "source": [
    "name = r.get_full_name()"
   ]
  },
  {
   "cell_type": "markdown",
   "id": "06dfde57-d801-40aa-9755-f74b2d0f4b68",
   "metadata": {},
   "source": [
    "Let's say we only need 10 users with full names and their email addresses. We can write a \"for-loop\" to print these 10 users.\n"
   ]
  },
  {
   "cell_type": "code",
   "execution_count": 7,
   "id": "7b017776-c645-4397-af6f-9a95c4abc0f3",
   "metadata": {},
   "outputs": [
    {
     "name": "stdout",
     "output_type": "stream",
     "text": [
      "Stephanie Welch   stephanie.welch@example.com\n",
      "Fabrice Leroy   fabrice.leroy@example.com\n",
      "Engin Golz   engin.golz@example.com\n",
      "نیایش احمدی   nyysh.hmdy@example.com\n",
      "Flavie Le Gall   flavie.legall@example.com\n",
      "Øystein Aaberg   oystein.aaberg@example.com\n",
      "Diona Van de Merbel   diona.vandemerbel@example.com\n",
      "Isaiah Kerssens   isaiah.kerssens@example.com\n",
      "Gavin Thomas   gavin.thomas@example.com\n",
      "Aria Walker   aria.walker@example.com\n"
     ]
    }
   ],
   "source": [
    "for user in some_list:\n",
    "    print (user.get_full_name(),\" \",user.get_email())"
   ]
  },
  {
   "cell_type": "markdown",
   "id": "170dbec0-a1ed-49c8-ab97-cd424e736ddd",
   "metadata": {},
   "source": [
    "## Exercise 1\n",
    "In this Exercise, generate photos of the random 5 users.\n"
   ]
  },
  {
   "cell_type": "code",
   "execution_count": 8,
   "id": "32f76e4d-ddd3-48a8-91a9-abd6251af1ab",
   "metadata": {},
   "outputs": [
    {
     "name": "stdout",
     "output_type": "stream",
     "text": [
      "https://randomuser.me/api/portraits/women/93.jpg\n",
      "https://randomuser.me/api/portraits/men/16.jpg\n",
      "https://randomuser.me/api/portraits/men/12.jpg\n",
      "https://randomuser.me/api/portraits/women/13.jpg\n",
      "https://randomuser.me/api/portraits/women/11.jpg\n",
      "https://randomuser.me/api/portraits/men/11.jpg\n",
      "https://randomuser.me/api/portraits/women/44.jpg\n",
      "https://randomuser.me/api/portraits/men/11.jpg\n",
      "https://randomuser.me/api/portraits/men/4.jpg\n",
      "https://randomuser.me/api/portraits/women/36.jpg\n"
     ]
    }
   ],
   "source": [
    "## Write your code here\n",
    "for user in some_list:\n",
    "    print (user.get_picture())"
   ]
  },
  {
   "cell_type": "markdown",
   "id": "71eb3d41-2a7f-4dc4-a750-2306fe1c50ba",
   "metadata": {},
   "source": [
    "<details><summary>Click here for the solution</summary>\n",
    "\n",
    "```python\n",
    "for user in some_list:\n",
    "    print (user.get_picture())\n",
    "```\n",
    "\n",
    "</details>\n"
   ]
  },
  {
   "cell_type": "markdown",
   "id": "2aa84a71-14be-45c3-bdd6-f72f51b9fda0",
   "metadata": {},
   "source": [
    "To generate a table with information about the users, we can write a function containing all desirable parameters. For example, name, gender, city, etc. The parameters will depend on the requirements of the test to be performed. We call the Get Methods, listed at the beginning of this notebook. Then, we return pandas dataframe with the users.\n"
   ]
  },
  {
   "cell_type": "code",
   "execution_count": 9,
   "id": "6c9e592a-1201-41a4-bcfe-540e31d02ff1",
   "metadata": {},
   "outputs": [],
   "source": [
    "def get_users():\n",
    "    users =[]\n",
    "     \n",
    "    for user in RandomUser.generate_users(10):\n",
    "        users.append({\"Name\":user.get_full_name(),\"Gender\":user.get_gender(),\"City\":user.get_city(),\"State\":user.get_state(),\"Email\":user.get_email(), \"DOB\":user.get_dob(),\"Picture\":user.get_picture()})\n",
    "      \n",
    "    return pd.DataFrame(users)     "
   ]
  },
  {
   "cell_type": "code",
   "execution_count": 10,
   "id": "0e389b22-8f73-4691-8a88-aa806c3f659a",
   "metadata": {},
   "outputs": [
    {
     "data": {
      "text/html": [
       "<div>\n",
       "<style scoped>\n",
       "    .dataframe tbody tr th:only-of-type {\n",
       "        vertical-align: middle;\n",
       "    }\n",
       "\n",
       "    .dataframe tbody tr th {\n",
       "        vertical-align: top;\n",
       "    }\n",
       "\n",
       "    .dataframe thead th {\n",
       "        text-align: right;\n",
       "    }\n",
       "</style>\n",
       "<table border=\"1\" class=\"dataframe\">\n",
       "  <thead>\n",
       "    <tr style=\"text-align: right;\">\n",
       "      <th></th>\n",
       "      <th>Name</th>\n",
       "      <th>Gender</th>\n",
       "      <th>City</th>\n",
       "      <th>State</th>\n",
       "      <th>Email</th>\n",
       "      <th>DOB</th>\n",
       "      <th>Picture</th>\n",
       "    </tr>\n",
       "  </thead>\n",
       "  <tbody>\n",
       "    <tr>\n",
       "      <th>0</th>\n",
       "      <td>بیتا کوتی</td>\n",
       "      <td>female</td>\n",
       "      <td>خرم‌آباد</td>\n",
       "      <td>چهارمحال و بختیاری</td>\n",
       "      <td>byt.khwty@example.com</td>\n",
       "      <td>1949-09-20T15:57:36.218Z</td>\n",
       "      <td>https://randomuser.me/api/portraits/women/27.jpg</td>\n",
       "    </tr>\n",
       "    <tr>\n",
       "      <th>1</th>\n",
       "      <td>Rose-Marie Garnier</td>\n",
       "      <td>female</td>\n",
       "      <td>Pfaffnau</td>\n",
       "      <td>Appenzell Ausserrhoden</td>\n",
       "      <td>rose-marie.garnier@example.com</td>\n",
       "      <td>1969-06-26T23:00:55.211Z</td>\n",
       "      <td>https://randomuser.me/api/portraits/women/85.jpg</td>\n",
       "    </tr>\n",
       "    <tr>\n",
       "      <th>2</th>\n",
       "      <td>Julia Da Silva</td>\n",
       "      <td>female</td>\n",
       "      <td>Sempach</td>\n",
       "      <td>Aargau</td>\n",
       "      <td>julia.dasilva@example.com</td>\n",
       "      <td>1955-10-12T13:43:34.195Z</td>\n",
       "      <td>https://randomuser.me/api/portraits/women/3.jpg</td>\n",
       "    </tr>\n",
       "    <tr>\n",
       "      <th>3</th>\n",
       "      <td>Sarah Hughes</td>\n",
       "      <td>female</td>\n",
       "      <td>New Plymouth</td>\n",
       "      <td>Bay of Plenty</td>\n",
       "      <td>sarah.hughes@example.com</td>\n",
       "      <td>1960-11-06T18:31:00.008Z</td>\n",
       "      <td>https://randomuser.me/api/portraits/women/21.jpg</td>\n",
       "    </tr>\n",
       "    <tr>\n",
       "      <th>4</th>\n",
       "      <td>Arthur Vidal</td>\n",
       "      <td>male</td>\n",
       "      <td>Créteil</td>\n",
       "      <td>Lot-et-Garonne</td>\n",
       "      <td>arthur.vidal@example.com</td>\n",
       "      <td>1970-03-17T23:18:12.063Z</td>\n",
       "      <td>https://randomuser.me/api/portraits/men/41.jpg</td>\n",
       "    </tr>\n",
       "    <tr>\n",
       "      <th>5</th>\n",
       "      <td>Elisa Bonnet</td>\n",
       "      <td>female</td>\n",
       "      <td>Toulouse</td>\n",
       "      <td>Eure-et-Loir</td>\n",
       "      <td>elisa.bonnet@example.com</td>\n",
       "      <td>1977-03-14T08:04:28.709Z</td>\n",
       "      <td>https://randomuser.me/api/portraits/women/1.jpg</td>\n",
       "    </tr>\n",
       "    <tr>\n",
       "      <th>6</th>\n",
       "      <td>Buse Solmaz</td>\n",
       "      <td>female</td>\n",
       "      <td>Burdur</td>\n",
       "      <td>Gaziantep</td>\n",
       "      <td>buse.solmaz@example.com</td>\n",
       "      <td>1989-06-30T12:48:17.415Z</td>\n",
       "      <td>https://randomuser.me/api/portraits/women/82.jpg</td>\n",
       "    </tr>\n",
       "    <tr>\n",
       "      <th>7</th>\n",
       "      <td>Dianne Jackson</td>\n",
       "      <td>female</td>\n",
       "      <td>Allentown</td>\n",
       "      <td>Arkansas</td>\n",
       "      <td>dianne.jackson@example.com</td>\n",
       "      <td>1969-12-05T09:22:33.431Z</td>\n",
       "      <td>https://randomuser.me/api/portraits/women/75.jpg</td>\n",
       "    </tr>\n",
       "    <tr>\n",
       "      <th>8</th>\n",
       "      <td>Gerdine Middelkoop</td>\n",
       "      <td>female</td>\n",
       "      <td>Babylonienbroek</td>\n",
       "      <td>Drenthe</td>\n",
       "      <td>gerdine.middelkoop@example.com</td>\n",
       "      <td>1972-07-05T12:25:05.350Z</td>\n",
       "      <td>https://randomuser.me/api/portraits/women/69.jpg</td>\n",
       "    </tr>\n",
       "    <tr>\n",
       "      <th>9</th>\n",
       "      <td>Kadir Akşit</td>\n",
       "      <td>male</td>\n",
       "      <td>Diyarbakır</td>\n",
       "      <td>Konya</td>\n",
       "      <td>kadir.aksit@example.com</td>\n",
       "      <td>1950-07-22T19:06:33.666Z</td>\n",
       "      <td>https://randomuser.me/api/portraits/men/95.jpg</td>\n",
       "    </tr>\n",
       "  </tbody>\n",
       "</table>\n",
       "</div>"
      ],
      "text/plain": [
       "                 Name  Gender             City                   State  \\\n",
       "0           بیتا کوتی  female         خرم‌آباد      چهارمحال و بختیاری   \n",
       "1  Rose-Marie Garnier  female         Pfaffnau  Appenzell Ausserrhoden   \n",
       "2      Julia Da Silva  female          Sempach                  Aargau   \n",
       "3        Sarah Hughes  female     New Plymouth           Bay of Plenty   \n",
       "4        Arthur Vidal    male          Créteil          Lot-et-Garonne   \n",
       "5        Elisa Bonnet  female         Toulouse            Eure-et-Loir   \n",
       "6         Buse Solmaz  female           Burdur               Gaziantep   \n",
       "7      Dianne Jackson  female        Allentown                Arkansas   \n",
       "8  Gerdine Middelkoop  female  Babylonienbroek                 Drenthe   \n",
       "9         Kadir Akşit    male       Diyarbakır                   Konya   \n",
       "\n",
       "                            Email                       DOB  \\\n",
       "0           byt.khwty@example.com  1949-09-20T15:57:36.218Z   \n",
       "1  rose-marie.garnier@example.com  1969-06-26T23:00:55.211Z   \n",
       "2       julia.dasilva@example.com  1955-10-12T13:43:34.195Z   \n",
       "3        sarah.hughes@example.com  1960-11-06T18:31:00.008Z   \n",
       "4        arthur.vidal@example.com  1970-03-17T23:18:12.063Z   \n",
       "5        elisa.bonnet@example.com  1977-03-14T08:04:28.709Z   \n",
       "6         buse.solmaz@example.com  1989-06-30T12:48:17.415Z   \n",
       "7      dianne.jackson@example.com  1969-12-05T09:22:33.431Z   \n",
       "8  gerdine.middelkoop@example.com  1972-07-05T12:25:05.350Z   \n",
       "9         kadir.aksit@example.com  1950-07-22T19:06:33.666Z   \n",
       "\n",
       "                                            Picture  \n",
       "0  https://randomuser.me/api/portraits/women/27.jpg  \n",
       "1  https://randomuser.me/api/portraits/women/85.jpg  \n",
       "2   https://randomuser.me/api/portraits/women/3.jpg  \n",
       "3  https://randomuser.me/api/portraits/women/21.jpg  \n",
       "4    https://randomuser.me/api/portraits/men/41.jpg  \n",
       "5   https://randomuser.me/api/portraits/women/1.jpg  \n",
       "6  https://randomuser.me/api/portraits/women/82.jpg  \n",
       "7  https://randomuser.me/api/portraits/women/75.jpg  \n",
       "8  https://randomuser.me/api/portraits/women/69.jpg  \n",
       "9    https://randomuser.me/api/portraits/men/95.jpg  "
      ]
     },
     "execution_count": 10,
     "metadata": {},
     "output_type": "execute_result"
    }
   ],
   "source": [
    "get_users()"
   ]
  },
  {
   "cell_type": "code",
   "execution_count": 11,
   "id": "0048a0ee-306e-4782-80af-2e66ec56257d",
   "metadata": {},
   "outputs": [],
   "source": [
    "df1 = pd.DataFrame(get_users())  "
   ]
  },
  {
   "cell_type": "markdown",
   "id": "0554597a-4666-460b-88ee-749e3b21906b",
   "metadata": {},
   "source": [
    "Now we have a *pandas* dataframe that can be used for any testing purposes that the tester might have.\n"
   ]
  },
  {
   "cell_type": "markdown",
   "id": "d6d12e51-14b0-422a-91ff-2de96643ef83",
   "metadata": {},
   "source": [
    "## Example 2: Fruitvice API\n",
    "\n",
    "Another, more common way to use APIs, is through `requests` library. The next lab, Requests and HTTP, will contain more information about requests.\n",
    "\n",
    "We will start by importing all required libraries.\n"
   ]
  },
  {
   "cell_type": "code",
   "execution_count": 12,
   "id": "829b256e-c5f6-4383-b562-350fd5438ad8",
   "metadata": {},
   "outputs": [],
   "source": [
    "import requests\n",
    "import json"
   ]
  },
  {
   "cell_type": "markdown",
   "id": "00b92b17-4eb7-47bd-9efe-2c4fb180acbf",
   "metadata": {},
   "source": [
    "We will obtain the [fruitvice](https://www.fruityvice.com/?utm_medium=Exinfluencer&utm_source=Exinfluencer&utm_content=000026UJ&utm_term=10006555&utm_id=NA-SkillsNetwork-Channel-SkillsNetworkCoursesIBMDeveloperSkillsNetworkPY0101ENSkillsNetwork1005-2023-01-01) API data using `requests.get(\"url\")` function. The data is in a json format.\n"
   ]
  },
  {
   "cell_type": "code",
   "execution_count": 13,
   "id": "d31bacde-23ae-47b2-9e79-2901c28d7e33",
   "metadata": {},
   "outputs": [],
   "source": [
    "data = requests.get(\"https://fruityvice.com/api/fruit/all\")"
   ]
  },
  {
   "cell_type": "markdown",
   "id": "3307771d-dc62-4b7b-a450-e5775943c281",
   "metadata": {},
   "source": [
    "We will retrieve results using `json.loads()` function.\n"
   ]
  },
  {
   "cell_type": "code",
   "execution_count": 14,
   "id": "183e4ccc-6eff-49c7-a709-b6bc40cf6af0",
   "metadata": {},
   "outputs": [],
   "source": [
    "results = json.loads(data.text)"
   ]
  },
  {
   "cell_type": "markdown",
   "id": "4b0225f9-2122-458b-bee5-8b1f0b372a56",
   "metadata": {},
   "source": [
    "We will convert our json data into *pandas* data frame. \n"
   ]
  },
  {
   "cell_type": "code",
   "execution_count": 15,
   "id": "7a8a12ff-3f6a-4041-a247-689ac49abfca",
   "metadata": {},
   "outputs": [
    {
     "data": {
      "text/html": [
       "<div>\n",
       "<style scoped>\n",
       "    .dataframe tbody tr th:only-of-type {\n",
       "        vertical-align: middle;\n",
       "    }\n",
       "\n",
       "    .dataframe tbody tr th {\n",
       "        vertical-align: top;\n",
       "    }\n",
       "\n",
       "    .dataframe thead th {\n",
       "        text-align: right;\n",
       "    }\n",
       "</style>\n",
       "<table border=\"1\" class=\"dataframe\">\n",
       "  <thead>\n",
       "    <tr style=\"text-align: right;\">\n",
       "      <th></th>\n",
       "      <th>name</th>\n",
       "      <th>id</th>\n",
       "      <th>family</th>\n",
       "      <th>order</th>\n",
       "      <th>genus</th>\n",
       "      <th>nutritions</th>\n",
       "    </tr>\n",
       "  </thead>\n",
       "  <tbody>\n",
       "    <tr>\n",
       "      <th>0</th>\n",
       "      <td>Persimmon</td>\n",
       "      <td>52</td>\n",
       "      <td>Ebenaceae</td>\n",
       "      <td>Rosales</td>\n",
       "      <td>Diospyros</td>\n",
       "      <td>{'calories': 81, 'fat': 0.0, 'sugar': 18.0, 'c...</td>\n",
       "    </tr>\n",
       "    <tr>\n",
       "      <th>1</th>\n",
       "      <td>Strawberry</td>\n",
       "      <td>3</td>\n",
       "      <td>Rosaceae</td>\n",
       "      <td>Rosales</td>\n",
       "      <td>Fragaria</td>\n",
       "      <td>{'calories': 29, 'fat': 0.4, 'sugar': 5.4, 'ca...</td>\n",
       "    </tr>\n",
       "    <tr>\n",
       "      <th>2</th>\n",
       "      <td>Banana</td>\n",
       "      <td>1</td>\n",
       "      <td>Musaceae</td>\n",
       "      <td>Zingiberales</td>\n",
       "      <td>Musa</td>\n",
       "      <td>{'calories': 96, 'fat': 0.2, 'sugar': 17.2, 'c...</td>\n",
       "    </tr>\n",
       "    <tr>\n",
       "      <th>3</th>\n",
       "      <td>Tomato</td>\n",
       "      <td>5</td>\n",
       "      <td>Solanaceae</td>\n",
       "      <td>Solanales</td>\n",
       "      <td>Solanum</td>\n",
       "      <td>{'calories': 74, 'fat': 0.2, 'sugar': 2.6, 'ca...</td>\n",
       "    </tr>\n",
       "    <tr>\n",
       "      <th>4</th>\n",
       "      <td>Pear</td>\n",
       "      <td>4</td>\n",
       "      <td>Rosaceae</td>\n",
       "      <td>Rosales</td>\n",
       "      <td>Pyrus</td>\n",
       "      <td>{'calories': 57, 'fat': 0.1, 'sugar': 10.0, 'c...</td>\n",
       "    </tr>\n",
       "    <tr>\n",
       "      <th>5</th>\n",
       "      <td>Durian</td>\n",
       "      <td>60</td>\n",
       "      <td>Malvaceae</td>\n",
       "      <td>Malvales</td>\n",
       "      <td>Durio</td>\n",
       "      <td>{'calories': 147, 'fat': 5.3, 'sugar': 6.75, '...</td>\n",
       "    </tr>\n",
       "    <tr>\n",
       "      <th>6</th>\n",
       "      <td>Blackberry</td>\n",
       "      <td>64</td>\n",
       "      <td>Rosaceae</td>\n",
       "      <td>Rosales</td>\n",
       "      <td>Rubus</td>\n",
       "      <td>{'calories': 40, 'fat': 0.4, 'sugar': 4.5, 'ca...</td>\n",
       "    </tr>\n",
       "    <tr>\n",
       "      <th>7</th>\n",
       "      <td>Lingonberry</td>\n",
       "      <td>65</td>\n",
       "      <td>Ericaceae</td>\n",
       "      <td>Ericales</td>\n",
       "      <td>Vaccinium</td>\n",
       "      <td>{'calories': 50, 'fat': 0.34, 'sugar': 5.74, '...</td>\n",
       "    </tr>\n",
       "    <tr>\n",
       "      <th>8</th>\n",
       "      <td>Kiwi</td>\n",
       "      <td>66</td>\n",
       "      <td>Actinidiaceae</td>\n",
       "      <td>Struthioniformes</td>\n",
       "      <td>Apteryx</td>\n",
       "      <td>{'calories': 61, 'fat': 0.5, 'sugar': 9.0, 'ca...</td>\n",
       "    </tr>\n",
       "    <tr>\n",
       "      <th>9</th>\n",
       "      <td>Lychee</td>\n",
       "      <td>67</td>\n",
       "      <td>Sapindaceae</td>\n",
       "      <td>Sapindales</td>\n",
       "      <td>Litchi</td>\n",
       "      <td>{'calories': 66, 'fat': 0.44, 'sugar': 15.0, '...</td>\n",
       "    </tr>\n",
       "    <tr>\n",
       "      <th>10</th>\n",
       "      <td>Pineapple</td>\n",
       "      <td>10</td>\n",
       "      <td>Bromeliaceae</td>\n",
       "      <td>Poales</td>\n",
       "      <td>Ananas</td>\n",
       "      <td>{'calories': 50, 'fat': 0.12, 'sugar': 9.85, '...</td>\n",
       "    </tr>\n",
       "    <tr>\n",
       "      <th>11</th>\n",
       "      <td>Fig</td>\n",
       "      <td>68</td>\n",
       "      <td>Moraceae</td>\n",
       "      <td>Rosales</td>\n",
       "      <td>Ficus</td>\n",
       "      <td>{'calories': 74, 'fat': 0.3, 'sugar': 16.0, 'c...</td>\n",
       "    </tr>\n",
       "    <tr>\n",
       "      <th>12</th>\n",
       "      <td>Gooseberry</td>\n",
       "      <td>69</td>\n",
       "      <td>Grossulariaceae</td>\n",
       "      <td>Saxifragales</td>\n",
       "      <td>Ribes</td>\n",
       "      <td>{'calories': 44, 'fat': 0.6, 'sugar': 0.0, 'ca...</td>\n",
       "    </tr>\n",
       "    <tr>\n",
       "      <th>13</th>\n",
       "      <td>Passionfruit</td>\n",
       "      <td>70</td>\n",
       "      <td>Passifloraceae</td>\n",
       "      <td>Malpighiales</td>\n",
       "      <td>Passiflora</td>\n",
       "      <td>{'calories': 97, 'fat': 0.7, 'sugar': 11.2, 'c...</td>\n",
       "    </tr>\n",
       "    <tr>\n",
       "      <th>14</th>\n",
       "      <td>Plum</td>\n",
       "      <td>71</td>\n",
       "      <td>Rosaceae</td>\n",
       "      <td>Rosales</td>\n",
       "      <td>Prunus</td>\n",
       "      <td>{'calories': 46, 'fat': 0.28, 'sugar': 9.92, '...</td>\n",
       "    </tr>\n",
       "    <tr>\n",
       "      <th>15</th>\n",
       "      <td>Orange</td>\n",
       "      <td>2</td>\n",
       "      <td>Rutaceae</td>\n",
       "      <td>Sapindales</td>\n",
       "      <td>Citrus</td>\n",
       "      <td>{'calories': 43, 'fat': 0.2, 'sugar': 8.2, 'ca...</td>\n",
       "    </tr>\n",
       "    <tr>\n",
       "      <th>16</th>\n",
       "      <td>GreenApple</td>\n",
       "      <td>72</td>\n",
       "      <td>Rosaceae</td>\n",
       "      <td>Rosales</td>\n",
       "      <td>Malus</td>\n",
       "      <td>{'calories': 21, 'fat': 0.1, 'sugar': 6.4, 'ca...</td>\n",
       "    </tr>\n",
       "    <tr>\n",
       "      <th>17</th>\n",
       "      <td>Raspberry</td>\n",
       "      <td>23</td>\n",
       "      <td>Rosaceae</td>\n",
       "      <td>Rosales</td>\n",
       "      <td>Rubus</td>\n",
       "      <td>{'calories': 53, 'fat': 0.7, 'sugar': 4.4, 'ca...</td>\n",
       "    </tr>\n",
       "    <tr>\n",
       "      <th>18</th>\n",
       "      <td>Watermelon</td>\n",
       "      <td>25</td>\n",
       "      <td>Cucurbitaceae</td>\n",
       "      <td>Cucurbitales</td>\n",
       "      <td>Citrullus</td>\n",
       "      <td>{'calories': 30, 'fat': 0.2, 'sugar': 6.0, 'ca...</td>\n",
       "    </tr>\n",
       "    <tr>\n",
       "      <th>19</th>\n",
       "      <td>Lemon</td>\n",
       "      <td>26</td>\n",
       "      <td>Rutaceae</td>\n",
       "      <td>Sapindales</td>\n",
       "      <td>Citrus</td>\n",
       "      <td>{'calories': 29, 'fat': 0.3, 'sugar': 2.5, 'ca...</td>\n",
       "    </tr>\n",
       "    <tr>\n",
       "      <th>20</th>\n",
       "      <td>Mango</td>\n",
       "      <td>27</td>\n",
       "      <td>Anacardiaceae</td>\n",
       "      <td>Sapindales</td>\n",
       "      <td>Mangifera</td>\n",
       "      <td>{'calories': 60, 'fat': 0.38, 'sugar': 13.7, '...</td>\n",
       "    </tr>\n",
       "    <tr>\n",
       "      <th>21</th>\n",
       "      <td>Blueberry</td>\n",
       "      <td>33</td>\n",
       "      <td>Rosaceae</td>\n",
       "      <td>Rosales</td>\n",
       "      <td>Fragaria</td>\n",
       "      <td>{'calories': 29, 'fat': 0.4, 'sugar': 5.4, 'ca...</td>\n",
       "    </tr>\n",
       "    <tr>\n",
       "      <th>22</th>\n",
       "      <td>Apple</td>\n",
       "      <td>6</td>\n",
       "      <td>Rosaceae</td>\n",
       "      <td>Rosales</td>\n",
       "      <td>Malus</td>\n",
       "      <td>{'calories': 52, 'fat': 0.4, 'sugar': 10.3, 'c...</td>\n",
       "    </tr>\n",
       "    <tr>\n",
       "      <th>23</th>\n",
       "      <td>Guava</td>\n",
       "      <td>37</td>\n",
       "      <td>Myrtaceae</td>\n",
       "      <td>Myrtales</td>\n",
       "      <td>Psidium</td>\n",
       "      <td>{'calories': 68, 'fat': 1.0, 'sugar': 9.0, 'ca...</td>\n",
       "    </tr>\n",
       "    <tr>\n",
       "      <th>24</th>\n",
       "      <td>Apricot</td>\n",
       "      <td>35</td>\n",
       "      <td>Rosaceae</td>\n",
       "      <td>Rosales</td>\n",
       "      <td>Prunus</td>\n",
       "      <td>{'calories': 15, 'fat': 0.1, 'sugar': 3.2, 'ca...</td>\n",
       "    </tr>\n",
       "    <tr>\n",
       "      <th>25</th>\n",
       "      <td>Papaya</td>\n",
       "      <td>42</td>\n",
       "      <td>Caricaceae</td>\n",
       "      <td>Caricacea</td>\n",
       "      <td>Carica</td>\n",
       "      <td>{'calories': 43, 'fat': 0.4, 'sugar': 1.0, 'ca...</td>\n",
       "    </tr>\n",
       "    <tr>\n",
       "      <th>26</th>\n",
       "      <td>Melon</td>\n",
       "      <td>41</td>\n",
       "      <td>Cucurbitaceae</td>\n",
       "      <td>Cucurbitaceae</td>\n",
       "      <td>Cucumis</td>\n",
       "      <td>{'calories': 34, 'fat': 0.0, 'sugar': 8.0, 'ca...</td>\n",
       "    </tr>\n",
       "    <tr>\n",
       "      <th>27</th>\n",
       "      <td>Tangerine</td>\n",
       "      <td>77</td>\n",
       "      <td>Rutaceae</td>\n",
       "      <td>Sapindales</td>\n",
       "      <td>Citrus</td>\n",
       "      <td>{'calories': 45, 'fat': 0.4, 'sugar': 9.1, 'ca...</td>\n",
       "    </tr>\n",
       "    <tr>\n",
       "      <th>28</th>\n",
       "      <td>Pitahaya</td>\n",
       "      <td>78</td>\n",
       "      <td>Cactaceae</td>\n",
       "      <td>Caryophyllales</td>\n",
       "      <td>Cactaceae</td>\n",
       "      <td>{'calories': 36, 'fat': 0.4, 'sugar': 3.0, 'ca...</td>\n",
       "    </tr>\n",
       "    <tr>\n",
       "      <th>29</th>\n",
       "      <td>Lime</td>\n",
       "      <td>44</td>\n",
       "      <td>Rutaceae</td>\n",
       "      <td>Sapindales</td>\n",
       "      <td>Citrus</td>\n",
       "      <td>{'calories': 25, 'fat': 0.1, 'sugar': 1.7, 'ca...</td>\n",
       "    </tr>\n",
       "    <tr>\n",
       "      <th>30</th>\n",
       "      <td>Pomegranate</td>\n",
       "      <td>79</td>\n",
       "      <td>Lythraceae</td>\n",
       "      <td>Myrtales</td>\n",
       "      <td>Punica</td>\n",
       "      <td>{'calories': 83, 'fat': 1.2, 'sugar': 13.7, 'c...</td>\n",
       "    </tr>\n",
       "    <tr>\n",
       "      <th>31</th>\n",
       "      <td>Dragonfruit</td>\n",
       "      <td>80</td>\n",
       "      <td>Cactaceae</td>\n",
       "      <td>Caryophyllales</td>\n",
       "      <td>Selenicereus</td>\n",
       "      <td>{'calories': 60, 'fat': 1.5, 'sugar': 8.0, 'ca...</td>\n",
       "    </tr>\n",
       "    <tr>\n",
       "      <th>32</th>\n",
       "      <td>Grape</td>\n",
       "      <td>81</td>\n",
       "      <td>Vitaceae</td>\n",
       "      <td>Vitales</td>\n",
       "      <td>Vitis</td>\n",
       "      <td>{'calories': 69, 'fat': 0.16, 'sugar': 16.0, '...</td>\n",
       "    </tr>\n",
       "    <tr>\n",
       "      <th>33</th>\n",
       "      <td>Morus</td>\n",
       "      <td>82</td>\n",
       "      <td>Moraceae</td>\n",
       "      <td>Rosales</td>\n",
       "      <td>Morus</td>\n",
       "      <td>{'calories': 43, 'fat': 0.39, 'sugar': 8.1, 'c...</td>\n",
       "    </tr>\n",
       "    <tr>\n",
       "      <th>34</th>\n",
       "      <td>Feijoa</td>\n",
       "      <td>76</td>\n",
       "      <td>Myrtaceae</td>\n",
       "      <td>Myrtoideae</td>\n",
       "      <td>Sellowiana</td>\n",
       "      <td>{'calories': 44, 'fat': 0.4, 'sugar': 3.0, 'ca...</td>\n",
       "    </tr>\n",
       "    <tr>\n",
       "      <th>35</th>\n",
       "      <td>Avocado</td>\n",
       "      <td>84</td>\n",
       "      <td>Lauraceae</td>\n",
       "      <td>Laurales</td>\n",
       "      <td>Persea</td>\n",
       "      <td>{'calories': 160, 'fat': 14.66, 'sugar': 0.66,...</td>\n",
       "    </tr>\n",
       "    <tr>\n",
       "      <th>36</th>\n",
       "      <td>Kiwifruit</td>\n",
       "      <td>85</td>\n",
       "      <td>Actinidiaceae</td>\n",
       "      <td>Ericales</td>\n",
       "      <td>Actinidia</td>\n",
       "      <td>{'calories': 61, 'fat': 0.5, 'sugar': 8.9, 'ca...</td>\n",
       "    </tr>\n",
       "    <tr>\n",
       "      <th>37</th>\n",
       "      <td>Cranberry</td>\n",
       "      <td>87</td>\n",
       "      <td>Ericaceae</td>\n",
       "      <td>Ericales</td>\n",
       "      <td>Vaccinium</td>\n",
       "      <td>{'calories': 46, 'fat': 0.1, 'sugar': 4.0, 'ca...</td>\n",
       "    </tr>\n",
       "    <tr>\n",
       "      <th>38</th>\n",
       "      <td>Cherry</td>\n",
       "      <td>9</td>\n",
       "      <td>Rosaceae</td>\n",
       "      <td>Rosales</td>\n",
       "      <td>Prunus</td>\n",
       "      <td>{'calories': 50, 'fat': 0.3, 'sugar': 8.0, 'ca...</td>\n",
       "    </tr>\n",
       "    <tr>\n",
       "      <th>39</th>\n",
       "      <td>Peach</td>\n",
       "      <td>86</td>\n",
       "      <td>Rosaceae</td>\n",
       "      <td>Rosales</td>\n",
       "      <td>Prunus</td>\n",
       "      <td>{'calories': 39, 'fat': 0.25, 'sugar': 8.4, 'c...</td>\n",
       "    </tr>\n",
       "  </tbody>\n",
       "</table>\n",
       "</div>"
      ],
      "text/plain": [
       "            name  id           family             order         genus  \\\n",
       "0      Persimmon  52        Ebenaceae           Rosales     Diospyros   \n",
       "1     Strawberry   3         Rosaceae           Rosales      Fragaria   \n",
       "2         Banana   1         Musaceae      Zingiberales          Musa   \n",
       "3         Tomato   5       Solanaceae         Solanales       Solanum   \n",
       "4           Pear   4         Rosaceae           Rosales         Pyrus   \n",
       "5         Durian  60        Malvaceae          Malvales         Durio   \n",
       "6     Blackberry  64         Rosaceae           Rosales         Rubus   \n",
       "7    Lingonberry  65        Ericaceae          Ericales     Vaccinium   \n",
       "8           Kiwi  66    Actinidiaceae  Struthioniformes       Apteryx   \n",
       "9         Lychee  67      Sapindaceae        Sapindales        Litchi   \n",
       "10     Pineapple  10     Bromeliaceae            Poales        Ananas   \n",
       "11           Fig  68         Moraceae           Rosales         Ficus   \n",
       "12    Gooseberry  69  Grossulariaceae      Saxifragales         Ribes   \n",
       "13  Passionfruit  70   Passifloraceae      Malpighiales    Passiflora   \n",
       "14          Plum  71         Rosaceae           Rosales        Prunus   \n",
       "15        Orange   2         Rutaceae        Sapindales        Citrus   \n",
       "16    GreenApple  72         Rosaceae           Rosales         Malus   \n",
       "17     Raspberry  23         Rosaceae           Rosales         Rubus   \n",
       "18    Watermelon  25    Cucurbitaceae      Cucurbitales     Citrullus   \n",
       "19         Lemon  26         Rutaceae        Sapindales        Citrus   \n",
       "20         Mango  27    Anacardiaceae        Sapindales     Mangifera   \n",
       "21     Blueberry  33         Rosaceae           Rosales      Fragaria   \n",
       "22         Apple   6         Rosaceae           Rosales         Malus   \n",
       "23         Guava  37        Myrtaceae          Myrtales       Psidium   \n",
       "24       Apricot  35         Rosaceae           Rosales        Prunus   \n",
       "25        Papaya  42       Caricaceae         Caricacea        Carica   \n",
       "26         Melon  41    Cucurbitaceae     Cucurbitaceae       Cucumis   \n",
       "27     Tangerine  77         Rutaceae        Sapindales        Citrus   \n",
       "28      Pitahaya  78        Cactaceae    Caryophyllales     Cactaceae   \n",
       "29          Lime  44         Rutaceae        Sapindales        Citrus   \n",
       "30   Pomegranate  79       Lythraceae          Myrtales        Punica   \n",
       "31   Dragonfruit  80        Cactaceae    Caryophyllales  Selenicereus   \n",
       "32         Grape  81         Vitaceae           Vitales         Vitis   \n",
       "33         Morus  82         Moraceae           Rosales         Morus   \n",
       "34        Feijoa  76        Myrtaceae        Myrtoideae    Sellowiana   \n",
       "35       Avocado  84        Lauraceae          Laurales        Persea   \n",
       "36     Kiwifruit  85    Actinidiaceae          Ericales     Actinidia   \n",
       "37     Cranberry  87        Ericaceae          Ericales     Vaccinium   \n",
       "38        Cherry   9         Rosaceae           Rosales        Prunus   \n",
       "39         Peach  86         Rosaceae           Rosales        Prunus   \n",
       "\n",
       "                                           nutritions  \n",
       "0   {'calories': 81, 'fat': 0.0, 'sugar': 18.0, 'c...  \n",
       "1   {'calories': 29, 'fat': 0.4, 'sugar': 5.4, 'ca...  \n",
       "2   {'calories': 96, 'fat': 0.2, 'sugar': 17.2, 'c...  \n",
       "3   {'calories': 74, 'fat': 0.2, 'sugar': 2.6, 'ca...  \n",
       "4   {'calories': 57, 'fat': 0.1, 'sugar': 10.0, 'c...  \n",
       "5   {'calories': 147, 'fat': 5.3, 'sugar': 6.75, '...  \n",
       "6   {'calories': 40, 'fat': 0.4, 'sugar': 4.5, 'ca...  \n",
       "7   {'calories': 50, 'fat': 0.34, 'sugar': 5.74, '...  \n",
       "8   {'calories': 61, 'fat': 0.5, 'sugar': 9.0, 'ca...  \n",
       "9   {'calories': 66, 'fat': 0.44, 'sugar': 15.0, '...  \n",
       "10  {'calories': 50, 'fat': 0.12, 'sugar': 9.85, '...  \n",
       "11  {'calories': 74, 'fat': 0.3, 'sugar': 16.0, 'c...  \n",
       "12  {'calories': 44, 'fat': 0.6, 'sugar': 0.0, 'ca...  \n",
       "13  {'calories': 97, 'fat': 0.7, 'sugar': 11.2, 'c...  \n",
       "14  {'calories': 46, 'fat': 0.28, 'sugar': 9.92, '...  \n",
       "15  {'calories': 43, 'fat': 0.2, 'sugar': 8.2, 'ca...  \n",
       "16  {'calories': 21, 'fat': 0.1, 'sugar': 6.4, 'ca...  \n",
       "17  {'calories': 53, 'fat': 0.7, 'sugar': 4.4, 'ca...  \n",
       "18  {'calories': 30, 'fat': 0.2, 'sugar': 6.0, 'ca...  \n",
       "19  {'calories': 29, 'fat': 0.3, 'sugar': 2.5, 'ca...  \n",
       "20  {'calories': 60, 'fat': 0.38, 'sugar': 13.7, '...  \n",
       "21  {'calories': 29, 'fat': 0.4, 'sugar': 5.4, 'ca...  \n",
       "22  {'calories': 52, 'fat': 0.4, 'sugar': 10.3, 'c...  \n",
       "23  {'calories': 68, 'fat': 1.0, 'sugar': 9.0, 'ca...  \n",
       "24  {'calories': 15, 'fat': 0.1, 'sugar': 3.2, 'ca...  \n",
       "25  {'calories': 43, 'fat': 0.4, 'sugar': 1.0, 'ca...  \n",
       "26  {'calories': 34, 'fat': 0.0, 'sugar': 8.0, 'ca...  \n",
       "27  {'calories': 45, 'fat': 0.4, 'sugar': 9.1, 'ca...  \n",
       "28  {'calories': 36, 'fat': 0.4, 'sugar': 3.0, 'ca...  \n",
       "29  {'calories': 25, 'fat': 0.1, 'sugar': 1.7, 'ca...  \n",
       "30  {'calories': 83, 'fat': 1.2, 'sugar': 13.7, 'c...  \n",
       "31  {'calories': 60, 'fat': 1.5, 'sugar': 8.0, 'ca...  \n",
       "32  {'calories': 69, 'fat': 0.16, 'sugar': 16.0, '...  \n",
       "33  {'calories': 43, 'fat': 0.39, 'sugar': 8.1, 'c...  \n",
       "34  {'calories': 44, 'fat': 0.4, 'sugar': 3.0, 'ca...  \n",
       "35  {'calories': 160, 'fat': 14.66, 'sugar': 0.66,...  \n",
       "36  {'calories': 61, 'fat': 0.5, 'sugar': 8.9, 'ca...  \n",
       "37  {'calories': 46, 'fat': 0.1, 'sugar': 4.0, 'ca...  \n",
       "38  {'calories': 50, 'fat': 0.3, 'sugar': 8.0, 'ca...  \n",
       "39  {'calories': 39, 'fat': 0.25, 'sugar': 8.4, 'c...  "
      ]
     },
     "execution_count": 15,
     "metadata": {},
     "output_type": "execute_result"
    }
   ],
   "source": [
    "pd.DataFrame(results)"
   ]
  },
  {
   "cell_type": "markdown",
   "id": "829c8318-bcb0-4bf0-995c-3945c6819907",
   "metadata": {},
   "source": [
    "The result is in a nested json format. The 'nutrition' column contains multiple subcolumns, so the data needs to be 'flattened' or normalized.\n"
   ]
  },
  {
   "cell_type": "code",
   "execution_count": 16,
   "id": "f580ad34-9bb8-46c1-a3e8-a0d285faf858",
   "metadata": {},
   "outputs": [],
   "source": [
    "df2 = pd.json_normalize(results)"
   ]
  },
  {
   "cell_type": "code",
   "execution_count": 17,
   "id": "c3d10697-5928-4aad-84ae-0c18ae12a411",
   "metadata": {},
   "outputs": [
    {
     "data": {
      "text/html": [
       "<div>\n",
       "<style scoped>\n",
       "    .dataframe tbody tr th:only-of-type {\n",
       "        vertical-align: middle;\n",
       "    }\n",
       "\n",
       "    .dataframe tbody tr th {\n",
       "        vertical-align: top;\n",
       "    }\n",
       "\n",
       "    .dataframe thead th {\n",
       "        text-align: right;\n",
       "    }\n",
       "</style>\n",
       "<table border=\"1\" class=\"dataframe\">\n",
       "  <thead>\n",
       "    <tr style=\"text-align: right;\">\n",
       "      <th></th>\n",
       "      <th>name</th>\n",
       "      <th>id</th>\n",
       "      <th>family</th>\n",
       "      <th>order</th>\n",
       "      <th>genus</th>\n",
       "      <th>nutritions.calories</th>\n",
       "      <th>nutritions.fat</th>\n",
       "      <th>nutritions.sugar</th>\n",
       "      <th>nutritions.carbohydrates</th>\n",
       "      <th>nutritions.protein</th>\n",
       "    </tr>\n",
       "  </thead>\n",
       "  <tbody>\n",
       "    <tr>\n",
       "      <th>0</th>\n",
       "      <td>Persimmon</td>\n",
       "      <td>52</td>\n",
       "      <td>Ebenaceae</td>\n",
       "      <td>Rosales</td>\n",
       "      <td>Diospyros</td>\n",
       "      <td>81</td>\n",
       "      <td>0.0</td>\n",
       "      <td>18.0</td>\n",
       "      <td>18.0</td>\n",
       "      <td>0.0</td>\n",
       "    </tr>\n",
       "    <tr>\n",
       "      <th>1</th>\n",
       "      <td>Strawberry</td>\n",
       "      <td>3</td>\n",
       "      <td>Rosaceae</td>\n",
       "      <td>Rosales</td>\n",
       "      <td>Fragaria</td>\n",
       "      <td>29</td>\n",
       "      <td>0.4</td>\n",
       "      <td>5.4</td>\n",
       "      <td>5.5</td>\n",
       "      <td>0.8</td>\n",
       "    </tr>\n",
       "    <tr>\n",
       "      <th>2</th>\n",
       "      <td>Banana</td>\n",
       "      <td>1</td>\n",
       "      <td>Musaceae</td>\n",
       "      <td>Zingiberales</td>\n",
       "      <td>Musa</td>\n",
       "      <td>96</td>\n",
       "      <td>0.2</td>\n",
       "      <td>17.2</td>\n",
       "      <td>22.0</td>\n",
       "      <td>1.0</td>\n",
       "    </tr>\n",
       "    <tr>\n",
       "      <th>3</th>\n",
       "      <td>Tomato</td>\n",
       "      <td>5</td>\n",
       "      <td>Solanaceae</td>\n",
       "      <td>Solanales</td>\n",
       "      <td>Solanum</td>\n",
       "      <td>74</td>\n",
       "      <td>0.2</td>\n",
       "      <td>2.6</td>\n",
       "      <td>3.9</td>\n",
       "      <td>0.9</td>\n",
       "    </tr>\n",
       "    <tr>\n",
       "      <th>4</th>\n",
       "      <td>Pear</td>\n",
       "      <td>4</td>\n",
       "      <td>Rosaceae</td>\n",
       "      <td>Rosales</td>\n",
       "      <td>Pyrus</td>\n",
       "      <td>57</td>\n",
       "      <td>0.1</td>\n",
       "      <td>10.0</td>\n",
       "      <td>15.0</td>\n",
       "      <td>0.4</td>\n",
       "    </tr>\n",
       "  </tbody>\n",
       "</table>\n",
       "</div>"
      ],
      "text/plain": [
       "         name  id      family         order      genus  nutritions.calories  \\\n",
       "0   Persimmon  52   Ebenaceae       Rosales  Diospyros                   81   \n",
       "1  Strawberry   3    Rosaceae       Rosales   Fragaria                   29   \n",
       "2      Banana   1    Musaceae  Zingiberales       Musa                   96   \n",
       "3      Tomato   5  Solanaceae     Solanales    Solanum                   74   \n",
       "4        Pear   4    Rosaceae       Rosales      Pyrus                   57   \n",
       "\n",
       "   nutritions.fat  nutritions.sugar  nutritions.carbohydrates  \\\n",
       "0             0.0              18.0                      18.0   \n",
       "1             0.4               5.4                       5.5   \n",
       "2             0.2              17.2                      22.0   \n",
       "3             0.2               2.6                       3.9   \n",
       "4             0.1              10.0                      15.0   \n",
       "\n",
       "   nutritions.protein  \n",
       "0                 0.0  \n",
       "1                 0.8  \n",
       "2                 1.0  \n",
       "3                 0.9  \n",
       "4                 0.4  "
      ]
     },
     "execution_count": 17,
     "metadata": {},
     "output_type": "execute_result"
    }
   ],
   "source": [
    "df2.head()"
   ]
  },
  {
   "cell_type": "markdown",
   "id": "ecc2441a-70ec-44b2-86b8-72e05ee8f3ad",
   "metadata": {},
   "source": [
    "Let's see if we can extract some information from this dataframe. Perhaps, we need to know the family and genus of a cherry.\n"
   ]
  },
  {
   "cell_type": "code",
   "execution_count": 18,
   "id": "717fbb95-c736-48d5-8254-f255a50b9067",
   "metadata": {},
   "outputs": [
    {
     "data": {
      "text/html": [
       "<div>\n",
       "<style scoped>\n",
       "    .dataframe tbody tr th:only-of-type {\n",
       "        vertical-align: middle;\n",
       "    }\n",
       "\n",
       "    .dataframe tbody tr th {\n",
       "        vertical-align: top;\n",
       "    }\n",
       "\n",
       "    .dataframe thead th {\n",
       "        text-align: right;\n",
       "    }\n",
       "</style>\n",
       "<table border=\"1\" class=\"dataframe\">\n",
       "  <thead>\n",
       "    <tr style=\"text-align: right;\">\n",
       "      <th></th>\n",
       "      <th>name</th>\n",
       "      <th>id</th>\n",
       "      <th>family</th>\n",
       "      <th>order</th>\n",
       "      <th>genus</th>\n",
       "      <th>nutritions.calories</th>\n",
       "      <th>nutritions.fat</th>\n",
       "      <th>nutritions.sugar</th>\n",
       "      <th>nutritions.carbohydrates</th>\n",
       "      <th>nutritions.protein</th>\n",
       "    </tr>\n",
       "  </thead>\n",
       "  <tbody>\n",
       "    <tr>\n",
       "      <th>38</th>\n",
       "      <td>Cherry</td>\n",
       "      <td>9</td>\n",
       "      <td>Rosaceae</td>\n",
       "      <td>Rosales</td>\n",
       "      <td>Prunus</td>\n",
       "      <td>50</td>\n",
       "      <td>0.3</td>\n",
       "      <td>8.0</td>\n",
       "      <td>12.0</td>\n",
       "      <td>1.0</td>\n",
       "    </tr>\n",
       "  </tbody>\n",
       "</table>\n",
       "</div>"
      ],
      "text/plain": [
       "      name  id    family    order   genus  nutritions.calories  \\\n",
       "38  Cherry   9  Rosaceae  Rosales  Prunus                   50   \n",
       "\n",
       "    nutritions.fat  nutritions.sugar  nutritions.carbohydrates  \\\n",
       "38             0.3               8.0                      12.0   \n",
       "\n",
       "    nutritions.protein  \n",
       "38                 1.0  "
      ]
     },
     "execution_count": 18,
     "metadata": {},
     "output_type": "execute_result"
    }
   ],
   "source": [
    "cherry = df2.loc[df2[\"name\"] == 'Cherry']\n",
    "cherry"
   ]
  },
  {
   "cell_type": "code",
   "execution_count": 19,
   "metadata": {},
   "outputs": [
    {
     "data": {
      "text/plain": [
       "('Rosaceae', 'Prunus')"
      ]
     },
     "execution_count": 19,
     "metadata": {},
     "output_type": "execute_result"
    }
   ],
   "source": [
    "(cherry.iloc[0]['family']) , (cherry.iloc[0]['genus'])"
   ]
  },
  {
   "cell_type": "markdown",
   "id": "d4ad7c4f-b175-4c89-8d37-5ef21da3e3f4",
   "metadata": {},
   "source": [
    "## Exercise 2\n",
    "In this Exercise, find out how many calories are contained in a banana.\n"
   ]
  },
  {
   "cell_type": "code",
   "execution_count": 20,
   "id": "77e774f6-b32a-485c-bba4-d7b2fffeeca1",
   "metadata": {},
   "outputs": [
    {
     "data": {
      "text/html": [
       "<div>\n",
       "<style scoped>\n",
       "    .dataframe tbody tr th:only-of-type {\n",
       "        vertical-align: middle;\n",
       "    }\n",
       "\n",
       "    .dataframe tbody tr th {\n",
       "        vertical-align: top;\n",
       "    }\n",
       "\n",
       "    .dataframe thead th {\n",
       "        text-align: right;\n",
       "    }\n",
       "</style>\n",
       "<table border=\"1\" class=\"dataframe\">\n",
       "  <thead>\n",
       "    <tr style=\"text-align: right;\">\n",
       "      <th></th>\n",
       "      <th>name</th>\n",
       "      <th>id</th>\n",
       "      <th>family</th>\n",
       "      <th>order</th>\n",
       "      <th>genus</th>\n",
       "      <th>nutritions.calories</th>\n",
       "      <th>nutritions.fat</th>\n",
       "      <th>nutritions.sugar</th>\n",
       "      <th>nutritions.carbohydrates</th>\n",
       "      <th>nutritions.protein</th>\n",
       "    </tr>\n",
       "  </thead>\n",
       "  <tbody>\n",
       "    <tr>\n",
       "      <th>2</th>\n",
       "      <td>Banana</td>\n",
       "      <td>1</td>\n",
       "      <td>Musaceae</td>\n",
       "      <td>Zingiberales</td>\n",
       "      <td>Musa</td>\n",
       "      <td>96</td>\n",
       "      <td>0.2</td>\n",
       "      <td>17.2</td>\n",
       "      <td>22.0</td>\n",
       "      <td>1.0</td>\n",
       "    </tr>\n",
       "  </tbody>\n",
       "</table>\n",
       "</div>"
      ],
      "text/plain": [
       "     name  id    family         order genus  nutritions.calories  \\\n",
       "2  Banana   1  Musaceae  Zingiberales  Musa                   96   \n",
       "\n",
       "   nutritions.fat  nutritions.sugar  nutritions.carbohydrates  \\\n",
       "2             0.2              17.2                      22.0   \n",
       "\n",
       "   nutritions.protein  \n",
       "2                 1.0  "
      ]
     },
     "execution_count": 20,
     "metadata": {},
     "output_type": "execute_result"
    }
   ],
   "source": [
    "# Write your code here\n",
    "banana = df2.loc[df2[\"name\"] == 'Banana']\n",
    "banana"
   ]
  },
  {
   "cell_type": "code",
   "execution_count": 21,
   "metadata": {},
   "outputs": [
    {
     "data": {
      "text/plain": [
       "96"
      ]
     },
     "execution_count": 21,
     "metadata": {},
     "output_type": "execute_result"
    }
   ],
   "source": [
    "banana.iloc[0]['nutritions.calories']"
   ]
  },
  {
   "cell_type": "markdown",
   "id": "4785de80-2019-42f0-8c4b-bf459701a25b",
   "metadata": {},
   "source": [
    "<details><summary>Click here for the solution</summary>\n",
    "\n",
    "```python\n",
    "cal_banana = df2.loc[df2[\"name\"] == 'Banana']\n",
    "cal_banana.iloc[0]['nutritions.calories']\n",
    "```\n",
    "\n",
    "</details>\n"
   ]
  },
  {
   "cell_type": "markdown",
   "id": "d5637098-7fb1-44a7-aafc-3a2f7b6f1bb6",
   "metadata": {},
   "source": [
    "## Exercise 3\n",
    "\n",
    "This [page](https://github.com/public-apis/public-apis#animals) contains a list of free public APIs. Choose any API of your interest and use it to load/extract some information, as shown in the example above.\n",
    "1. Using `requests.get(\"url\")` function, load your data.\n"
   ]
  },
  {
   "cell_type": "code",
   "execution_count": 22,
   "id": "a0227258-98ab-48fd-83e5-9633ebabe70d",
   "metadata": {},
   "outputs": [
    {
     "data": {
      "text/plain": [
       "200"
      ]
     },
     "execution_count": 22,
     "metadata": {},
     "output_type": "execute_result"
    }
   ],
   "source": [
    "# Write your code here\n",
    "data2 = requests.get(\"http://uselessfacts.jsph.pl/api/v2/facts/today\")\n",
    "data2.status_code"
   ]
  },
  {
   "cell_type": "markdown",
   "id": "d24ad9b2-8e62-4000-acf9-d38d1e331e72",
   "metadata": {},
   "source": [
    "<details><summary>Click here for the solution</summary>\n",
    "\n",
    "```python\n",
    "data2 = requests.get(\"https://www.fishwatch.gov/api/species\")\n",
    "```\n",
    "\n",
    "</details>\n"
   ]
  },
  {
   "cell_type": "markdown",
   "id": "ee466d4e-6bf0-40c7-aae6-b094fc4f43fa",
   "metadata": {},
   "source": [
    "2. Retrieve results using `json.loads()` function.\n"
   ]
  },
  {
   "cell_type": "code",
   "execution_count": 23,
   "id": "5a6ffdab-8d7a-44a8-af24-b2a4e2c790a2",
   "metadata": {},
   "outputs": [
    {
     "data": {
      "text/plain": [
       "{'id': '4221d347c862ef3cbf5c198b596acb2e',\n",
       " 'text': 'The giant squid has the largest eyes in the world.',\n",
       " 'source': 'djtech.net',\n",
       " 'source_url': 'http://www.djtech.net/humor/useless_facts.htm',\n",
       " 'language': 'en',\n",
       " 'permalink': 'https://uselessfacts.jsph.pl/api/v2/facts/4221d347c862ef3cbf5c198b596acb2e'}"
      ]
     },
     "execution_count": 23,
     "metadata": {},
     "output_type": "execute_result"
    }
   ],
   "source": [
    "# Write your code here\n",
    "results2 = json.loads(data2.text)\n",
    "results2"
   ]
  },
  {
   "cell_type": "markdown",
   "id": "b3147d09-c706-43dd-a756-cf704486c6ff",
   "metadata": {},
   "source": [
    "<details><summary>Click here for the solution</summary>\n",
    "\n",
    "```python\n",
    "results2 = json.loads(data2.text)\n",
    "```\n",
    "\n",
    "</details>\n"
   ]
  },
  {
   "cell_type": "markdown",
   "id": "eb9af9ab-c219-4216-9704-82236bc03026",
   "metadata": {},
   "source": [
    "3. Convert json data into *pandas* data frame. \n"
   ]
  },
  {
   "cell_type": "code",
   "execution_count": 24,
   "id": "f4562c3d-3ecb-4466-987c-4d0e81f1b90a",
   "metadata": {},
   "outputs": [
    {
     "data": {
      "text/html": [
       "<div>\n",
       "<style scoped>\n",
       "    .dataframe tbody tr th:only-of-type {\n",
       "        vertical-align: middle;\n",
       "    }\n",
       "\n",
       "    .dataframe tbody tr th {\n",
       "        vertical-align: top;\n",
       "    }\n",
       "\n",
       "    .dataframe thead th {\n",
       "        text-align: right;\n",
       "    }\n",
       "</style>\n",
       "<table border=\"1\" class=\"dataframe\">\n",
       "  <thead>\n",
       "    <tr style=\"text-align: right;\">\n",
       "      <th></th>\n",
       "      <th>id</th>\n",
       "      <th>text</th>\n",
       "      <th>source</th>\n",
       "      <th>source_url</th>\n",
       "      <th>language</th>\n",
       "      <th>permalink</th>\n",
       "    </tr>\n",
       "  </thead>\n",
       "  <tbody>\n",
       "    <tr>\n",
       "      <th>0</th>\n",
       "      <td>4221d347c862ef3cbf5c198b596acb2e</td>\n",
       "      <td>The giant squid has the largest eyes in the wo...</td>\n",
       "      <td>djtech.net</td>\n",
       "      <td>http://www.djtech.net/humor/useless_facts.htm</td>\n",
       "      <td>en</td>\n",
       "      <td>https://uselessfacts.jsph.pl/api/v2/facts/4221...</td>\n",
       "    </tr>\n",
       "  </tbody>\n",
       "</table>\n",
       "</div>"
      ],
      "text/plain": [
       "                                 id  \\\n",
       "0  4221d347c862ef3cbf5c198b596acb2e   \n",
       "\n",
       "                                                text      source  \\\n",
       "0  The giant squid has the largest eyes in the wo...  djtech.net   \n",
       "\n",
       "                                      source_url language  \\\n",
       "0  http://www.djtech.net/humor/useless_facts.htm       en   \n",
       "\n",
       "                                           permalink  \n",
       "0  https://uselessfacts.jsph.pl/api/v2/facts/4221...  "
      ]
     },
     "execution_count": 24,
     "metadata": {},
     "output_type": "execute_result"
    }
   ],
   "source": [
    "# Write your code here\n",
    "df3 = pd.DataFrame(results2, index=[0])\n",
    "df3"
   ]
  },
  {
   "cell_type": "code",
   "execution_count": 25,
   "metadata": {},
   "outputs": [
    {
     "data": {
      "text/plain": [
       "0    The giant squid has the largest eyes in the wo...\n",
       "Name: text, dtype: object"
      ]
     },
     "execution_count": 25,
     "metadata": {},
     "output_type": "execute_result"
    }
   ],
   "source": [
    "df3[\"text\"]"
   ]
  },
  {
   "cell_type": "markdown",
   "id": "142719e9-c798-4c74-bdeb-30714f4f19ff",
   "metadata": {},
   "source": [
    "<details><summary>Click here for the solution</summary>\n",
    "\n",
    "```python\n",
    "df3 = pd.DataFrame(results2)\n",
    "df3\n",
    "```\n",
    "\n",
    "</details>\n"
   ]
  },
  {
   "cell_type": "markdown",
   "id": "f9c04060-0576-482f-82b7-ef5c6194a989",
   "metadata": {},
   "source": [
    "# Congratulations! - You have completed the lab\n"
   ]
  },
  {
   "cell_type": "markdown",
   "id": "7040a79b-293f-436f-afed-190439213f9e",
   "metadata": {},
   "source": [
    "## Author\n",
    "[Svitlana Kramar](www.linkedin.com/in/svitlana-kramar)\n",
    "\n",
    "\n",
    "Svitlana is a master’s degree Data Science and Analytics student at University of Calgary, who enjoys travelling, learning new languages and cultures and loves spreading her passion for Data Science.\n"
   ]
  },
  {
   "cell_type": "markdown",
   "id": "30f8a83b-4d29-45c3-92a1-cd80d5cfacf3",
   "metadata": {},
   "source": [
    "                                Copyright © 2020 IBM Corporation. All rights reserved.\n"
   ]
  }
 ],
 "metadata": {
  "kernelspec": {
   "display_name": "Python 3 (ipykernel)",
   "language": "python",
   "name": "python3"
  },
  "language_info": {
   "codemirror_mode": {
    "name": "ipython",
    "version": 3
   },
   "file_extension": ".py",
   "mimetype": "text/x-python",
   "name": "python",
   "nbconvert_exporter": "python",
   "pygments_lexer": "ipython3",
   "version": "3.10.6"
  }
 },
 "nbformat": 4,
 "nbformat_minor": 4
}
